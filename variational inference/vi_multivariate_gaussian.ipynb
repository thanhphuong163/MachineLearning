{
 "cells": [
  {
   "cell_type": "markdown",
   "metadata": {},
   "source": [
    "# Variational Inference: Multivariate Gaussian"
   ]
  },
  {
   "cell_type": "code",
   "execution_count": 1,
   "metadata": {},
   "outputs": [],
   "source": [
    "import numpy as np\n",
    "import matplotlib.pyplot as plt\n",
    "import scipy.stats as stats"
   ]
  },
  {
   "cell_type": "markdown",
   "metadata": {},
   "source": [
    "## Utilities"
   ]
  },
  {
   "cell_type": "code",
   "execution_count": 2,
   "metadata": {},
   "outputs": [],
   "source": [
    "def genGauss(n=100,loc=np.array([0,0]), scale=np.array([1,1])):\n",
    "    dim = loc.shape[0]\n",
    "    X = np.random.normal(loc=loc, scale=scale, size=(n,dim))\n",
    "    return X"
   ]
  },
  {
   "cell_type": "code",
   "execution_count": 3,
   "metadata": {},
   "outputs": [],
   "source": [
    "def plot_data(X):\n",
    "    plt.figure(figsize=(10,7))\n",
    "    plt.scatter(X[:,0], X[:,1])\n",
    "#     plt.legend()\n",
    "    plt.show()"
   ]
  },
  {
   "cell_type": "code",
   "execution_count": 22,
   "metadata": {},
   "outputs": [],
   "source": [
    "from scipy.special import gamma as gamma_func\n",
    "\n",
    "def elbo(λ, a, b):\n",
    "    return -0.5*np.log(λ) + np.log(gamma_func(a)) - a*np.log(b) "
   ]
  },
  {
   "cell_type": "code",
   "execution_count": 23,
   "metadata": {},
   "outputs": [],
   "source": [
    "def var_inference(data, num_iter=10):\n",
    "    r_0 = np.ones(data.shape[1])\n",
    "    μ_0 = np.zeros(data.shape[1])\n",
    "    a_0 = np.ones(data.shape[1])\n",
    "    b_0 = np.ones(data.shape[1])\n",
    "    N = len(data)\n",
    "    μ_N = (r_0*μ_0 + N * np.mean(data, axis=0)) / (r_0 + N)\n",
    "    a_N = a_0 + (N+1)/2\n",
    "    r_N = np.ones(data.shape[1])\n",
    "    \n",
    "    ELBO_prev = -1e9\n",
    "    for i in range(num_iter):\n",
    "        E_mu_2 = 1/r_N + np.power(μ_N,2)\n",
    "        b_N = b_0 + r_0*(E_mu_2 + μ_0**2 - 2*μ_N*μ_0) + 0.5*np.sum(np.power(data,2) + E_mu_2 - 2*μ_N*data)\n",
    "        r_N = (r_0 + N)*(a_N / b_N)\n",
    "        \n",
    "        ELBO_cur = elbo(r_N, a_N, b_N)\n",
    "#         assert ELBO_cur >= ELBO_prev\n",
    "#         ELBO_prev = ELBO_cur\n",
    "        print('ELBO at step %3i/%3i is'%(i+1, num_iter), ELBO_cur)\n",
    "        print('a_N=', a_N)\n",
    "        print('b_N=', b_N)\n",
    "        print('r_N=', r_N)\n",
    "    return μ_N"
   ]
  },
  {
   "cell_type": "markdown",
   "metadata": {},
   "source": [
    "## Run test"
   ]
  },
  {
   "cell_type": "code",
   "execution_count": 33,
   "metadata": {},
   "outputs": [],
   "source": [
    "num_samples = 300\n",
    "true_mu = np.array([2,3,5])\n",
    "true_sigma = np.array([1,2,3])\n",
    "X = genGauss(num_samples, true_mu, true_sigma)"
   ]
  },
  {
   "cell_type": "code",
   "execution_count": 36,
   "metadata": {},
   "outputs": [
    {
     "name": "stdout",
     "output_type": "stream",
     "text": [
      "ELBO at step   1/  8 is [-576.7192618  -577.06716827 -577.98615983]\n",
      "a_N= [151.5 151.5 151.5]\n",
      "b_N= [2458.17475213 2463.84495657 2478.88573068]\n",
      "r_N= [18.55095939 18.50826688 18.39596696]\n",
      "ELBO at step   2/  8 is [-547.93733855 -548.35820799 -549.4689558 ]\n",
      "a_N= [151.5 151.5 151.5]\n",
      "b_N= [2031.57294058 2037.24326936 2052.2843733 ]\n",
      "r_N= [22.44640056 22.38392473 22.21987391]\n",
      "ELBO at step   3/  8 is [-547.62342085 -548.04516494 -549.15820939]\n",
      "a_N= [151.5 151.5 151.5]\n",
      "b_N= [2027.35383967 2033.02416845 2048.0652724 ]\n",
      "r_N= [22.49311349 22.43037771 22.26564779]\n",
      "ELBO at step   4/  8 is [-547.62031294 -548.04206569 -549.1551329 ]\n",
      "a_N= [151.5 151.5 151.5]\n",
      "b_N= [2027.31211265 2032.98244144 2048.02354539]\n",
      "r_N= [22.49357645 22.4308381  22.26610143]\n",
      "ELBO at step   5/  8 is [-547.6202822  -548.04203504 -549.15510248]\n",
      "a_N= [151.5 151.5 151.5]\n",
      "b_N= [2027.31169997 2032.98202876 2048.02313271]\n",
      "r_N= [22.49358103 22.43084265 22.26610592]\n",
      "ELBO at step   6/  8 is [-547.62028189 -548.04203473 -549.15510217]\n",
      "a_N= [151.5 151.5 151.5]\n",
      "b_N= [2027.31169589 2032.98202467 2048.02312862]\n",
      "r_N= [22.49358108 22.4308427  22.26610596]\n",
      "ELBO at step   7/  8 is [-547.62028189 -548.04203473 -549.15510217]\n",
      "a_N= [151.5 151.5 151.5]\n",
      "b_N= [2027.31169585 2032.98202463 2048.02312858]\n",
      "r_N= [22.49358108 22.4308427  22.26610597]\n",
      "ELBO at step   8/  8 is [-547.62028189 -548.04203473 -549.15510217]\n",
      "a_N= [151.5 151.5 151.5]\n",
      "b_N= [2027.31169585 2032.98202463 2048.02312858]\n",
      "r_N= [22.49358108 22.4308427  22.26610597]\n",
      "[1.96324779 3.08618637 4.95634144]\n",
      "[2 3 5]\n",
      "[ 0.03675221 -0.08618637  0.04365856]\n"
     ]
    }
   ],
   "source": [
    "μ_estimated = var_inference(X, num_iter=8)\n",
    "print(μ_estimated)\n",
    "print(true_mu)\n",
    "print(true_mu - μ_estimated)"
   ]
  },
  {
   "cell_type": "code",
   "execution_count": null,
   "metadata": {},
   "outputs": [],
   "source": []
  },
  {
   "cell_type": "code",
   "execution_count": null,
   "metadata": {},
   "outputs": [],
   "source": []
  },
  {
   "cell_type": "code",
   "execution_count": null,
   "metadata": {},
   "outputs": [],
   "source": []
  },
  {
   "cell_type": "code",
   "execution_count": null,
   "metadata": {},
   "outputs": [],
   "source": []
  },
  {
   "cell_type": "code",
   "execution_count": null,
   "metadata": {},
   "outputs": [],
   "source": []
  },
  {
   "cell_type": "code",
   "execution_count": null,
   "metadata": {},
   "outputs": [],
   "source": []
  },
  {
   "cell_type": "code",
   "execution_count": null,
   "metadata": {},
   "outputs": [],
   "source": []
  },
  {
   "cell_type": "code",
   "execution_count": null,
   "metadata": {},
   "outputs": [],
   "source": []
  },
  {
   "cell_type": "code",
   "execution_count": null,
   "metadata": {},
   "outputs": [],
   "source": []
  }
 ],
 "metadata": {
  "kernelspec": {
   "display_name": "Python 3",
   "language": "python",
   "name": "python3"
  },
  "language_info": {
   "codemirror_mode": {
    "name": "ipython",
    "version": 3
   },
   "file_extension": ".py",
   "mimetype": "text/x-python",
   "name": "python",
   "nbconvert_exporter": "python",
   "pygments_lexer": "ipython3",
   "version": "3.7.7"
  }
 },
 "nbformat": 4,
 "nbformat_minor": 2
}
