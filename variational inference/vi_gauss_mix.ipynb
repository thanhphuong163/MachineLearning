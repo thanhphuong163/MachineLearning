{
 "cells": [
  {
   "cell_type": "markdown",
   "metadata": {},
   "source": [
    "# Variational Inference: Gaussian Mixture Models"
   ]
  },
  {
   "cell_type": "code",
   "execution_count": 1,
   "metadata": {},
   "outputs": [],
   "source": [
    "import numpy as np\n",
    "import pandas as pd\n",
    "import scipy.stats as stats\n",
    "import matplotlib.pyplot as plt"
   ]
  },
  {
   "cell_type": "markdown",
   "metadata": {},
   "source": [
    "## Generating Synthetic Dataset"
   ]
  },
  {
   "cell_type": "code",
   "execution_count": null,
   "metadata": {},
   "outputs": [],
   "source": [
    "def genGauss(n=100,loc=np.array([0,0]), scale=np.array([1,1])):\n",
    "    dim = loc.shape[0]\n",
    "    X = np.random.normal(loc=loc, scale=scale, size=(n,dim))\n",
    "    return X"
   ]
  },
  {
   "cell_type": "code",
   "execution_count": null,
   "metadata": {},
   "outputs": [],
   "source": [
    "def genGaussMix(n=100, p=np.array([.5,.5]), loc=np.array([[-2,0],[2,0]]), scale=np.array([[1,1],[1,1]])):\n",
    "    k = loc.shape[0]\n",
    "    lstX = []\n",
    "    for i in range(k):\n",
    "        samples = int(round(p[i]*n))\n",
    "        X = genGauss(n=samples, loc=loc[i,:], scale=scale[i,:])\n",
    "        Y = np.empty((samples,1))\n",
    "        Y.fill(i+1)\n",
    "        lstX.append(np.concatenate((X,Y), axis=1))\n",
    "    return np.concatenate(lstX, axis=0)"
   ]
  },
  {
   "cell_type": "code",
   "execution_count": null,
   "metadata": {},
   "outputs": [],
   "source": [
    "# with labels\n",
    "def plot_gauss_mix_w_labels(X):\n",
    "    k = np.max(X[:,-1])\n",
    "    plt.figure(figsize=(10,7))\n",
    "    for i in range(int(k)):\n",
    "        data = X[X[:,-1] == i+1]\n",
    "        plt.scatter(data[:,0], data[:,1], label=f'Cluster {i+1}')\n",
    "    plt.legend()\n",
    "    plt.show()\n",
    "# without labels\n",
    "def plot_gauss_mix_wo_labels(X):\n",
    "    plt.figure(figsize=(10,7))\n",
    "    plt.scatter(data[:,0], data[:,1])\n",
    "    plt.legend()\n",
    "    plt.show()"
   ]
  },
  {
   "cell_type": "code",
   "execution_count": null,
   "metadata": {},
   "outputs": [],
   "source": [
    "n = 300\n",
    "p = np.array([.5,.3,.2])\n",
    "loc = np.array([[-2,-1],[2,5],[3,-2]])\n",
    "scale = np.array([[2,2],[1,1],[1,3]])\n",
    "X = genGaussMix(n=n,p=p,loc=loc,scale=scale)\n",
    "plotGaussMix(X)"
   ]
  },
  {
   "cell_type": "markdown",
   "metadata": {},
   "source": [
    "## Utilities"
   ]
  },
  {
   "cell_type": "code",
   "execution_count": 2,
   "metadata": {},
   "outputs": [],
   "source": []
  },
  {
   "cell_type": "code",
   "execution_count": null,
   "metadata": {},
   "outputs": [],
   "source": []
  },
  {
   "cell_type": "code",
   "execution_count": null,
   "metadata": {},
   "outputs": [],
   "source": []
  },
  {
   "cell_type": "code",
   "execution_count": null,
   "metadata": {},
   "outputs": [],
   "source": []
  }
 ],
 "metadata": {
  "kernelspec": {
   "display_name": "Python 3",
   "language": "python",
   "name": "python3"
  },
  "language_info": {
   "codemirror_mode": {
    "name": "ipython",
    "version": 3
   },
   "file_extension": ".py",
   "mimetype": "text/x-python",
   "name": "python",
   "nbconvert_exporter": "python",
   "pygments_lexer": "ipython3",
   "version": "3.7.7"
  }
 },
 "nbformat": 4,
 "nbformat_minor": 2
}
