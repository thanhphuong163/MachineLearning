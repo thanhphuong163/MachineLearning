{
 "cells": [
  {
   "cell_type": "markdown",
   "metadata": {},
   "source": [
    "# Gradient Descent\n",
    "This is an optimization algorithm"
   ]
  },
  {
   "cell_type": "code",
   "execution_count": 1,
   "metadata": {},
   "outputs": [],
   "source": [
    "import numpy as np\n",
    "import scipy as sc\n",
    "import matplotlib.pyplot as plt\n",
    "import IPython.display as display\n",
    "import ipywidgets as widgets\n",
    "%matplotlib nbagg"
   ]
  },
  {
   "cell_type": "code",
   "execution_count": 2,
   "metadata": {},
   "outputs": [],
   "source": [
    "n = 100\n",
    "X = np.random.randn(n,1) * 10\n",
    "ones = np.ones((n,1))\n",
    "X = np.concatenate((X, ones), axis=1)\n",
    "theta = np.array([[2],[3]])\n",
    "y = np.dot(X, theta) + np.random.randn(n,1)*3"
   ]
  },
  {
   "cell_type": "code",
   "execution_count": 3,
   "metadata": {},
   "outputs": [],
   "source": [
    "def cost(y_hat, y):\n",
    "    n = y.shape[0]\n",
    "    err = y_hat - y\n",
    "    cost = np.dot(err.T, err) / n\n",
    "    return cost"
   ]
  },
  {
   "cell_type": "code",
   "execution_count": 4,
   "metadata": {},
   "outputs": [],
   "source": [
    "def gradient_descent(X, y, lr=1e-4, epochs=100):\n",
    "    theta_hat = np.zeros((X.shape[1],1))\n",
    "    loss = list()\n",
    "    lst_theta_hat = list(theta_hat)\n",
    "    for i in range(epochs):\n",
    "        y_hat = np.dot(X, theta_hat)\n",
    "        err = y_hat - y\n",
    "        grad = np.dot(X.T, err).mean(axis=1).reshape(theta_hat.shape)\n",
    "        theta_hat -= lr * grad\n",
    "        if (i % 10 == 9) or (i == epochs-1):\n",
    "            lst_theta_hat.append(theta_hat)\n",
    "            loss.append((i, cost(y_hat, y).item()))\n",
    "    return (loss, lst_theta_hat)"
   ]
  },
  {
   "cell_type": "code",
   "execution_count": 5,
   "metadata": {},
   "outputs": [
    {
     "name": "stdout",
     "output_type": "stream",
     "text": [
      "[[1.99064345]\n",
      " [3.41385631]]\n"
     ]
    }
   ],
   "source": [
    "loss, lst_theta_hat = gradient_descent(X, y, epochs=800)\n",
    "print(lst_theta_hat[-1])"
   ]
  },
  {
   "cell_type": "code",
   "execution_count": 9,
   "metadata": {},
   "outputs": [
    {
     "data": {
      "image/png": "[encoded data removed]",
      "text/plain": [
       "<Figure size 720x504 with 1 Axes>"
      ]
     },
     "metadata": {
      "needs_background": "light"
     },
     "output_type": "display_data"
    }
   ],
   "source": [
    "X_0 = np.linspace(-30,30,100).reshape((n,1))\n",
    "X_0 = np.concatenate((X_0, np.ones((X_0.shape[0],1))), axis=1)\n",
    "y_0 = np.dot(X_0, lst_theta_hat[-1])\n",
    "learning_curve = np.array(loss)\n",
    "plt.figure(figsize=(10,7))\n",
    "# plt.scatter(X[:,0], y)\n",
    "# plt.plot(X_0[:,0], y_0, color='red')\n",
    "plt.plot(learning_curve[:,0], learning_curve[:,1])\n",
    "plt.show()"
   ]
  },
  {
   "cell_type": "code",
   "execution_count": null,
   "metadata": {},
   "outputs": [],
   "source": []
  },
  {
   "cell_type": "code",
   "execution_count": null,
   "metadata": {},
   "outputs": [],
   "source": []
  }
 ],
 "metadata": {
  "kernelspec": {
   "display_name": "Python 3",
   "language": "python",
   "name": "python3"
  },
  "language_info": {
   "codemirror_mode": {
    "name": "ipython",
    "version": 3
   },
   "file_extension": ".py",
   "mimetype": "text/x-python",
   "name": "python",
   "nbconvert_exporter": "python",
   "pygments_lexer": "ipython3",
   "version": "3.7.7"
  }
 },
 "nbformat": 4,
 "nbformat_minor": 4
}
