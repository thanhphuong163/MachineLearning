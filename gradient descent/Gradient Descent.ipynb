{
 "cells": [
  {
   "cell_type": "markdown",
   "metadata": {},
   "source": [
    "# Gradient Descent\n",
    "This is an optimization algorithm"
   ]
  },
  {
   "cell_type": "code",
   "execution_count": 1,
   "metadata": {},
   "outputs": [],
   "source": [
    "import numpy as np\n",
    "import scipy as sc\n",
    "import IPython.display as display\n",
    "import ipywidgets as widgets\n",
    "import bqplot.pyplot as plt\n",
    "from bqplot import *\n",
    "from ipywidgets import *"
   ]
  },
  {
   "cell_type": "code",
   "execution_count": 2,
   "metadata": {},
   "outputs": [],
   "source": [
    "n = 100\n",
    "X = np.random.randn(n,1) * 10\n",
    "ones = np.ones((n,1))\n",
    "X = np.concatenate((X, ones), axis=1)\n",
    "theta = np.array([[2],[3]])\n",
    "y = np.dot(X, theta) + np.random.randn(n,1)*3"
   ]
  },
  {
   "cell_type": "code",
   "execution_count": 3,
   "metadata": {},
   "outputs": [],
   "source": [
    "def cost(y_hat, y):\n",
    "    n = y.shape[0]\n",
    "    err = y_hat - y\n",
    "    cost = np.dot(err.T, err) / n\n",
    "    return cost"
   ]
  },
  {
   "cell_type": "code",
   "execution_count": 4,
   "metadata": {},
   "outputs": [],
   "source": [
    "def gradient_descent(X, y, lr=1e-4, epochs=100):\n",
    "    theta_hat = np.zeros((X.shape[1],1))\n",
    "    loss = list()\n",
    "    lst_theta_hat = list()\n",
    "    lst_theta_hat.append(theta_hat.copy())\n",
    "    for i in range(epochs):\n",
    "        y_hat = np.dot(X, theta_hat)\n",
    "        err = y_hat - y\n",
    "        grad = np.dot(X.T, err).mean(axis=1).reshape(theta_hat.shape)\n",
    "        theta_hat -= lr * grad\n",
    "        lst_theta_hat.append(theta_hat.copy())\n",
    "        loss.append((i+1, cost(y_hat, y).item()))\n",
    "    \n",
    "    return (loss, lst_theta_hat)"
   ]
  },
  {
   "cell_type": "code",
   "execution_count": 5,
   "metadata": {
    "tags": []
   },
   "outputs": [
    {
     "output_type": "stream",
     "name": "stdout",
     "text": "[[1.9949709 ]\n [1.59485801]]\n"
    }
   ],
   "source": [
    "(loss, lst_theta_hat) = gradient_descent(X, y, epochs=700, lr=1e-5)\n",
    "print(lst_theta_hat[-1])"
   ]
  },
  {
   "cell_type": "code",
   "execution_count": 6,
   "metadata": {},
   "outputs": [
    {
     "output_type": "display_data",
     "data": {
      "text/plain": "VBox(children=(Figure(axes=[Axis(scale=LinearScale()), Axis(orientation='vertical', scale=LinearScale())], fig…",
      "application/vnd.jupyter.widget-view+json": {
       "version_major": 2,
       "version_minor": 0,
       "model_id": "ff80e6ae204743be8c1f7a469a5515c8"
      }
     },
     "metadata": {}
    }
   ],
   "source": [
    "X_0 = np.linspace(-30,30,100).reshape((n,1))\n",
    "X_0 = np.concatenate((X_0, np.ones((X_0.shape[0],1))), axis=1)\n",
    "y_0 = np.dot(X_0, lst_theta_hat[-1])\n",
    "learning_curve = np.array(loss)\n",
    "plt.figure(figsize=(10,7))\n",
    "plt.plot(learning_curve[:,0].flatten(), learning_curve[:,1].flatten(), colors=['orange'])\n",
    "plt.show()"
   ]
  },
  {
   "cell_type": "code",
   "execution_count": 7,
   "metadata": {},
   "outputs": [],
   "source": [
    "time_interval = 500\n",
    "y_0 = np.dot(X_0, lst_theta_hat[0])\n",
    "\n",
    "x_sc = LinearScale()\n",
    "y_sc = LinearScale()\n",
    "\n",
    "ax_x = Axis(label='X', scale=x_sc, grid_lines='solid')\n",
    "ax_y = Axis(label='y', scale=y_sc, orientation='vertical', side='left', grid_lines='solid')\n",
    "\n",
    "fig = plt.figure(animation_duration=time_interval)\n",
    "scatter = plt.scatter(x=X[:,0].flatten(), y=y.flatten(), visible=True, label=\"Data points\")\n",
    "reg_line = plt.plot(x=X_0[:,0].flatten(), y=y_0.flatten(), colors=['red'], label=\"Regression line\")\n",
    "\n",
    "plt.ylim(-70,70)\n",
    "slider = IntSlider(min=0, max=len(lst_theta_hat)/10, step=1, description=\"Epochs x 10\", value=0)\n",
    "play = Play(min=0, max=len(lst_theta_hat)/10, interval=time_interval)\n",
    "\n",
    "def slider_update(change):\n",
    "    theta = lst_theta_hat[slider.value * 10]\n",
    "    plt.title('[%.2f , %.2f]'.format(theta[0,0], theta[0,1]))\n",
    "    reg_line.y = np.dot(X_0, theta).flatten()\n",
    "\n",
    "slider.observe(slider_update, 'value')"
   ]
  },
  {
   "cell_type": "code",
   "execution_count": 8,
   "metadata": {},
   "outputs": [
    {
     "output_type": "display_data",
     "data": {
      "text/plain": "VBox(children=(HBox(children=(Play(value=0, interval=500, max=70), IntSlider(value=0, description='Epochs x 10…",
      "application/vnd.jupyter.widget-view+json": {
       "version_major": 2,
       "version_minor": 0,
       "model_id": "ea9aca8b1e4c4485ba59b5f11d380e09"
      }
     },
     "metadata": {}
    }
   ],
   "source": [
    "jslink((play, 'value'), (slider, 'value'))\n",
    "VBox([HBox([play, slider]), fig])"
   ]
  },
  {
   "cell_type": "code",
   "execution_count": null,
   "metadata": {},
   "outputs": [],
   "source": []
  }
 ],
 "metadata": {
  "kernelspec": {
   "display_name": "Python 3.7.7 64-bit",
   "language": "python",
   "name": "python_defaultSpec_1597171706294"
  },
  "language_info": {
   "codemirror_mode": {
    "name": "ipython",
    "version": 3
   },
   "file_extension": ".py",
   "mimetype": "text/x-python",
   "name": "python",
   "nbconvert_exporter": "python",
   "pygments_lexer": "ipython3",
   "version": "3.7.7"
  }
 },
 "nbformat": 4,
 "nbformat_minor": 4
}