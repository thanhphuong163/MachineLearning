{
 "cells": [
  {
   "cell_type": "markdown",
   "metadata": {},
   "source": [
    "# K-mean algorithm"
   ]
  },
  {
   "cell_type": "code",
   "execution_count": 1,
   "metadata": {},
   "outputs": [],
   "source": [
    "import numpy as np\n",
    "import pandas as pd\n",
    "import matplotlib.pyplot as plt"
   ]
  },
  {
   "cell_type": "code",
   "execution_count": 22,
   "metadata": {},
   "outputs": [
    {
     "data": {
      "image/png": "[encoded data removed]",
      "text/plain": [
       "<Figure size 432x288 with 1 Axes>"
      ]
     },
     "metadata": {
      "needs_background": "light"
     },
     "output_type": "display_data"
    }
   ],
   "source": [
    "def genGauss(n=100,loc=np.array([0,0]), scale=np.array([1,1])):\n",
    "    dim = loc.shape[0]\n",
    "    X = np.random.normal(loc=loc, scale=scale, size=(n,dim))\n",
    "    return X"
   ]
  },
  {
   "cell_type": "code",
   "execution_count": 6,
   "metadata": {},
   "outputs": [],
   "source": [
    "def genGaussMix(n=100, p=np.array([.5,.5]), loc=np.array([[-2,0],[2,0]]), scale=np.array([[1,1],[1,1]])):\n",
    "    k = loc.shape[0]\n",
    "    lstX = []\n",
    "    for i in range(k):\n",
    "        samples = int(round(p[i]*n))\n",
    "        X = genGauss(n=samples, loc=loc[i,:], scale=scale[i,:])\n",
    "        Y = np.empty((samples,1))\n",
    "        Y.fill(i+1)\n",
    "        lstX.append(np.concatenate((X,Y), axis=1))\n",
    "    return np.concatenate(lstX, axis=0)"
   ]
  },
  {
   "cell_type": "code",
   "execution_count": null,
   "metadata": {},
   "outputs": [],
   "source": [
    "def plotGaussMix(X):\n",
    "    k = np.max(X[:,-1])\n",
    "    plt.figure(figsize=(10,7))\n",
    "    for i in range(int(k)):\n",
    "        data = X[X[:,-1] == i+1]\n",
    "        plt.scatter(data[:,0], data[:,1], label=f'Cluster {i+1}')\n",
    "    plt.legend()\n",
    "    plt.show()"
   ]
  },
  {
   "cell_type": "code",
   "execution_count": null,
   "metadata": {},
   "outputs": [],
   "source": [
    "def distance(x1, x2):\n",
    "    return np.sqrt(np.sum((x1-x2)**2))"
   ]
  },
  {
   "cell_type": "code",
   "execution_count": null,
   "metadata": {},
   "outputs": [],
   "source": [
    "def assignLabel(means, X):\n",
    "    for t,point in enumerate(X):\n",
    "        minDistance = 1e12\n",
    "        for i,mean in enumerate(means):\n",
    "            if distance(mean, point[:-1]) < minDistance:\n",
    "                minDistance = distance(mean, point[:-1])\n",
    "                X[t,-1] = i+1"
   ]
  },
  {
   "cell_type": "code",
   "execution_count": null,
   "metadata": {},
   "outputs": [],
   "source": [
    "def updateMean(X):\n",
    "    labels = np.unique(X[:,-1])\n",
    "    means = list()\n",
    "    for label in labels:\n",
    "        data = X[X[:,-1] == label]\n",
    "        means.append(data[:,:-1].mean(axis=0))\n",
    "    return np.array(means)"
   ]
  },
  {
   "cell_type": "code",
   "execution_count": null,
   "metadata": {},
   "outputs": [],
   "source": [
    "def loss(X, means):\n",
    "    cost = 0\n",
    "    for i, mean in enumerate(means):\n",
    "        data = X[X[:,-1] == i+1][:,:-1]\n",
    "        cost += np.sum((data-mean)**2)\n",
    "    return np.sqrt(cost) / X.shape[0]"
   ]
  },
  {
   "cell_type": "code",
   "execution_count": null,
   "metadata": {},
   "outputs": [],
   "source": [
    "def Kmean(X, k, numIter=10):\n",
    "    means = X[np.random.choice(X.shape[0], k, replace=False), :]\n",
    "    lst_loss = list()\n",
    "    labels = np.zeros((X.shape[0],1))\n",
    "    X = np.concatenate((X,labels), axis=1)\n",
    "    for i in range(numIter):\n",
    "        assignLabel(means, X)\n",
    "        lst_loss.append(loss(X, means))\n",
    "        means = updateMean(X)\n",
    "    return X,lst_loss"
   ]
  },
  {
   "cell_type": "code",
   "execution_count": null,
   "metadata": {},
   "outputs": [],
   "source": [
    "n = 300\n",
    "p = np.array([.5,.3,.2])\n",
    "loc = np.array([[-2,-1],[2,5],[3,-2]])\n",
    "scale = np.array([[2,2],[1,1],[1,3]])\n",
    "X = genGaussMix(n=n,p=p,loc=loc,scale=scale)"
   ]
  },
  {
   "cell_type": "code",
   "execution_count": null,
   "metadata": {},
   "outputs": [],
   "source": [
    "data, lst_loss = Kmean(X[:,:-1],3,numIter=10)\n",
    "print(lst_loss)"
   ]
  },
  {
   "cell_type": "code",
   "execution_count": null,
   "metadata": {},
   "outputs": [],
   "source": []
  }
 ],
 "metadata": {
  "kernelspec": {
   "display_name": "Python 3",
   "language": "python",
   "name": "python3"
  },
  "language_info": {
   "codemirror_mode": {
    "name": "ipython",
    "version": 3
   },
   "file_extension": ".py",
   "mimetype": "text/x-python",
   "name": "python",
   "nbconvert_exporter": "python",
   "pygments_lexer": "ipython3",
   "version": "3.7.7"
  }
 },
 "nbformat": 4,
 "nbformat_minor": 4
}
